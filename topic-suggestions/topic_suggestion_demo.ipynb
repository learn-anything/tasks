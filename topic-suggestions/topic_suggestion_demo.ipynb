{
 "cells": [
  {
   "cell_type": "code",
   "execution_count": 85,
   "metadata": {},
   "outputs": [],
   "source": [
    "example_topics_list = ['animals', 'linters', 'polkadot', 'planetscale', 'prometheus', 'rocksdb', 'design-systems', 'figma-plugins',\n",
    "                        'fonts', 'load-balancing', 'finance', 'solar', 'veganism', 'exercises', 'fitness', 'running', 'strength-training', \n",
    "                        'yoga', 'rules', 'recipes', '2022-july', 'movies', 'music-artists', 'massages', 'logic-pro', 'caddy', 'decentralization', \n",
    "                        'puzzles', 'web-presence', 'quantum-computing', 'neo4j', 'parsing', 'python-libraries', 'a-view-of-mathematics', 'drones', \n",
    "                        'robots', 'cryptography', 'encryption', 'blogs', 'physics', 'dat', 'my-file-system', 'safari', 'spin', '3d-printing', \n",
    "                        'consciousness', 'ego', 'finding-work', 'freelancing', 'research', 'ambient', 'analytics', 'grafana', 'tinybird', 'birds', \n",
    "                        'anki', 'api', 'trpc', 'anime', 'architecture', 'art', 'arkit', 'augmented-reality', 'automation', 'home-automation', \n",
    "                        'backups', 'bioinformatics', 'documentaries', 'cannabis', 'clothes', 'comics', 'dancing', 'drawing', 'furniture', \n",
    "                        'generative-art', 'makeup', 'midjourney', 'pen-plotting', 'photography', 'sketching', 'tattoos', 'cracking-the-coding-interview', \n",
    "                        'restaurants', 'articles', 'biology', 'bionics', 'computational-biology', 'evolution', 'dna', 'genomics', 'immunology', \n",
    "                        'immunotherapy', 'regenerative-medicine', 'viruses', 'ai-modern-approach', 'books', 'brave-new-world', 'code-the-hidden-language', \n",
    "                        'arweave', 'blockchain']"
   ]
  },
  {
   "cell_type": "code",
   "execution_count": 86,
   "metadata": {},
   "outputs": [],
   "source": [
    "# !pip3 install sentence_transformers\n",
    "# !pip3 install faiss-cpu"
   ]
  },
  {
   "cell_type": "markdown",
   "metadata": {},
   "source": [
    "#### 1. Saving current topics embeddings"
   ]
  },
  {
   "cell_type": "code",
   "execution_count": 12,
   "metadata": {},
   "outputs": [
    {
     "data": {
      "application/json": {
       "ascii": false,
       "bar_format": null,
       "colour": null,
       "elapsed": 0.007887125015258789,
       "initial": 0,
       "n": 0,
       "ncols": null,
       "nrows": null,
       "postfix": null,
       "prefix": "modules.json",
       "rate": null,
       "total": 229,
       "unit": "B",
       "unit_divisor": 1000,
       "unit_scale": true
      },
      "application/vnd.jupyter.widget-view+json": {
       "model_id": "a844f989998c4a1ab63f63b13b23e68f",
       "version_major": 2,
       "version_minor": 0
      },
      "text/plain": [
       "modules.json:   0%|          | 0.00/229 [00:00<?, ?B/s]"
      ]
     },
     "metadata": {},
     "output_type": "display_data"
    },
    {
     "data": {
      "application/json": {
       "ascii": false,
       "bar_format": null,
       "colour": null,
       "elapsed": 0.007325172424316406,
       "initial": 0,
       "n": 0,
       "ncols": null,
       "nrows": null,
       "postfix": null,
       "prefix": "config_sentence_transformers.json",
       "rate": null,
       "total": 123,
       "unit": "B",
       "unit_divisor": 1000,
       "unit_scale": true
      },
      "application/vnd.jupyter.widget-view+json": {
       "model_id": "2132fba63bb9415fa0eb925b1b83a3f7",
       "version_major": 2,
       "version_minor": 0
      },
      "text/plain": [
       "config_sentence_transformers.json:   0%|          | 0.00/123 [00:00<?, ?B/s]"
      ]
     },
     "metadata": {},
     "output_type": "display_data"
    },
    {
     "data": {
      "application/json": {
       "ascii": false,
       "bar_format": null,
       "colour": null,
       "elapsed": 0.008713245391845703,
       "initial": 0,
       "n": 0,
       "ncols": null,
       "nrows": null,
       "postfix": null,
       "prefix": "README.md",
       "rate": null,
       "total": 65446,
       "unit": "B",
       "unit_divisor": 1000,
       "unit_scale": true
      },
      "application/vnd.jupyter.widget-view+json": {
       "model_id": "eabe7d032a5c45faa65e57d4d54d2dda",
       "version_major": 2,
       "version_minor": 0
      },
      "text/plain": [
       "README.md:   0%|          | 0.00/65.4k [00:00<?, ?B/s]"
      ]
     },
     "metadata": {},
     "output_type": "display_data"
    },
    {
     "data": {
      "application/json": {
       "ascii": false,
       "bar_format": null,
       "colour": null,
       "elapsed": 0.005908966064453125,
       "initial": 0,
       "n": 0,
       "ncols": null,
       "nrows": null,
       "postfix": null,
       "prefix": "sentence_bert_config.json",
       "rate": null,
       "total": 53,
       "unit": "B",
       "unit_divisor": 1000,
       "unit_scale": true
      },
      "application/vnd.jupyter.widget-view+json": {
       "model_id": "c1ff743d224c4b2383c47b8540878b8b",
       "version_major": 2,
       "version_minor": 0
      },
      "text/plain": [
       "sentence_bert_config.json:   0%|          | 0.00/53.0 [00:00<?, ?B/s]"
      ]
     },
     "metadata": {},
     "output_type": "display_data"
    },
    {
     "data": {
      "application/json": {
       "ascii": false,
       "bar_format": null,
       "colour": null,
       "elapsed": 0.007144927978515625,
       "initial": 0,
       "n": 0,
       "ncols": null,
       "nrows": null,
       "postfix": null,
       "prefix": "config.json",
       "rate": null,
       "total": 669,
       "unit": "B",
       "unit_divisor": 1000,
       "unit_scale": true
      },
      "application/vnd.jupyter.widget-view+json": {
       "model_id": "9d5fb54d8c364a1990bbed0578a329ce",
       "version_major": 2,
       "version_minor": 0
      },
      "text/plain": [
       "config.json:   0%|          | 0.00/669 [00:00<?, ?B/s]"
      ]
     },
     "metadata": {},
     "output_type": "display_data"
    },
    {
     "data": {
      "application/json": {
       "ascii": false,
       "bar_format": null,
       "colour": null,
       "elapsed": 0.006720066070556641,
       "initial": 0,
       "n": 0,
       "ncols": null,
       "nrows": null,
       "postfix": null,
       "prefix": "model.safetensors",
       "rate": null,
       "total": 45457576,
       "unit": "B",
       "unit_divisor": 1000,
       "unit_scale": true
      },
      "application/vnd.jupyter.widget-view+json": {
       "model_id": "ed91f32cbcf64c529c3212ce662b0b83",
       "version_major": 2,
       "version_minor": 0
      },
      "text/plain": [
       "model.safetensors:   0%|          | 0.00/45.5M [00:00<?, ?B/s]"
      ]
     },
     "metadata": {},
     "output_type": "display_data"
    },
    {
     "data": {
      "application/json": {
       "ascii": false,
       "bar_format": null,
       "colour": null,
       "elapsed": 0.009199857711791992,
       "initial": 0,
       "n": 0,
       "ncols": null,
       "nrows": null,
       "postfix": null,
       "prefix": "tokenizer_config.json",
       "rate": null,
       "total": 1536,
       "unit": "B",
       "unit_divisor": 1000,
       "unit_scale": true
      },
      "application/vnd.jupyter.widget-view+json": {
       "model_id": "f2e33519c551446599207becdefc402e",
       "version_major": 2,
       "version_minor": 0
      },
      "text/plain": [
       "tokenizer_config.json:   0%|          | 0.00/1.54k [00:00<?, ?B/s]"
      ]
     },
     "metadata": {},
     "output_type": "display_data"
    },
    {
     "data": {
      "application/json": {
       "ascii": false,
       "bar_format": null,
       "colour": null,
       "elapsed": 0.009887218475341797,
       "initial": 0,
       "n": 0,
       "ncols": null,
       "nrows": null,
       "postfix": null,
       "prefix": "vocab.txt",
       "rate": null,
       "total": 231508,
       "unit": "B",
       "unit_divisor": 1000,
       "unit_scale": true
      },
      "application/vnd.jupyter.widget-view+json": {
       "model_id": "85f0a943022949128da025fdf0671833",
       "version_major": 2,
       "version_minor": 0
      },
      "text/plain": [
       "vocab.txt:   0%|          | 0.00/232k [00:00<?, ?B/s]"
      ]
     },
     "metadata": {},
     "output_type": "display_data"
    },
    {
     "data": {
      "application/json": {
       "ascii": false,
       "bar_format": null,
       "colour": null,
       "elapsed": 0.008093833923339844,
       "initial": 0,
       "n": 0,
       "ncols": null,
       "nrows": null,
       "postfix": null,
       "prefix": "tokenizer.json",
       "rate": null,
       "total": 711661,
       "unit": "B",
       "unit_divisor": 1000,
       "unit_scale": true
      },
      "application/vnd.jupyter.widget-view+json": {
       "model_id": "3c04c3a1ed2a442aa18d884e60ea9f50",
       "version_major": 2,
       "version_minor": 0
      },
      "text/plain": [
       "tokenizer.json:   0%|          | 0.00/712k [00:00<?, ?B/s]"
      ]
     },
     "metadata": {},
     "output_type": "display_data"
    },
    {
     "data": {
      "application/json": {
       "ascii": false,
       "bar_format": null,
       "colour": null,
       "elapsed": 0.009259939193725586,
       "initial": 0,
       "n": 0,
       "ncols": null,
       "nrows": null,
       "postfix": null,
       "prefix": "added_tokens.json",
       "rate": null,
       "total": 82,
       "unit": "B",
       "unit_divisor": 1000,
       "unit_scale": true
      },
      "application/vnd.jupyter.widget-view+json": {
       "model_id": "893a5f5b03cd4ab39fac4e8f14af88b1",
       "version_major": 2,
       "version_minor": 0
      },
      "text/plain": [
       "added_tokens.json:   0%|          | 0.00/82.0 [00:00<?, ?B/s]"
      ]
     },
     "metadata": {},
     "output_type": "display_data"
    },
    {
     "data": {
      "application/json": {
       "ascii": false,
       "bar_format": null,
       "colour": null,
       "elapsed": 0.009317874908447266,
       "initial": 0,
       "n": 0,
       "ncols": null,
       "nrows": null,
       "postfix": null,
       "prefix": "special_tokens_map.json",
       "rate": null,
       "total": 228,
       "unit": "B",
       "unit_divisor": 1000,
       "unit_scale": true
      },
      "application/vnd.jupyter.widget-view+json": {
       "model_id": "cfa89b463fdf4361bdf2d4c202dbb413",
       "version_major": 2,
       "version_minor": 0
      },
      "text/plain": [
       "special_tokens_map.json:   0%|          | 0.00/228 [00:00<?, ?B/s]"
      ]
     },
     "metadata": {},
     "output_type": "display_data"
    },
    {
     "data": {
      "application/json": {
       "ascii": false,
       "bar_format": null,
       "colour": null,
       "elapsed": 0.0061299800872802734,
       "initial": 0,
       "n": 0,
       "ncols": null,
       "nrows": null,
       "postfix": null,
       "prefix": "1_Pooling/config.json",
       "rate": null,
       "total": 190,
       "unit": "B",
       "unit_divisor": 1000,
       "unit_scale": true
      },
      "application/vnd.jupyter.widget-view+json": {
       "model_id": "7f94b1e5d6ad437ba7f41995ac2aaee1",
       "version_major": 2,
       "version_minor": 0
      },
      "text/plain": [
       "1_Pooling/config.json:   0%|          | 0.00/190 [00:00<?, ?B/s]"
      ]
     },
     "metadata": {},
     "output_type": "display_data"
    }
   ],
   "source": [
    "from sentence_transformers import SentenceTransformer\n",
    "model = SentenceTransformer('TaylorAI/gte-tiny')"
   ]
  },
  {
   "cell_type": "code",
   "execution_count": 20,
   "metadata": {},
   "outputs": [],
   "source": [
    "embeddings = model.encode(example_topics_list)\n",
    "embeddings_dict = {}\n",
    "for i in range(embeddings.shape[0]):\n",
    "    embeddings_dict[i] = example_topics_list[i]"
   ]
  },
  {
   "cell_type": "code",
   "execution_count": 21,
   "metadata": {},
   "outputs": [],
   "source": [
    "import faiss\n",
    "index = faiss.IndexFlatL2(embeddings.shape[1])\n",
    "index.add(embeddings)"
   ]
  },
  {
   "cell_type": "markdown",
   "metadata": {},
   "source": [
    "#### 2. Function to get nearest topics to query"
   ]
  },
  {
   "cell_type": "code",
   "execution_count": 38,
   "metadata": {},
   "outputs": [],
   "source": [
    "def get_candidates(query, k=3):\n",
    "    query_em = model.encode(query).reshape(1, -1)\n",
    "    distances, indices = index.search(query_em, k)\n",
    "    for i in indices[0]:\n",
    "        print(embeddings_dict[i])"
   ]
  },
  {
   "cell_type": "code",
   "execution_count": 39,
   "metadata": {},
   "outputs": [
    {
     "name": "stdout",
     "output_type": "stream",
     "text": [
      "analytics\n",
      "computational-biology\n",
      "ai-modern-approach\n"
     ]
    }
   ],
   "source": [
    "get_candidates('Tensorflow')"
   ]
  },
  {
   "cell_type": "code",
   "execution_count": 40,
   "metadata": {},
   "outputs": [
    {
     "name": "stdout",
     "output_type": "stream",
     "text": [
      "python-libraries\n",
      "api\n",
      "computational-biology\n"
     ]
    }
   ],
   "source": [
    "get_candidates('Python')"
   ]
  },
  {
   "cell_type": "code",
   "execution_count": 41,
   "metadata": {},
   "outputs": [
    {
     "name": "stdout",
     "output_type": "stream",
     "text": [
      "ai-modern-approach\n",
      "automation\n",
      "home-automation\n"
     ]
    }
   ],
   "source": [
    "get_candidates('Programming AI wife')"
   ]
  },
  {
   "cell_type": "markdown",
   "metadata": {},
   "source": [
    "#### 3. Function to get info about topic from query"
   ]
  },
  {
   "cell_type": "code",
   "execution_count": 79,
   "metadata": {},
   "outputs": [],
   "source": [
    "import requests\n",
    "from bs4 import BeautifulSoup\n",
    "import re \n",
    "from urllib.parse import urlparse\n",
    "\n",
    "def clean_url(url):\n",
    "    parsed_url = urlparse(url)\n",
    "    path = parsed_url.path\n",
    "    netloc = parsed_url.netloc\n",
    "    combined_string = f\"{netloc}{path}\"\n",
    "    cleaned_string = re.sub(r'www|https?|::|//|-|\\.(com|org|net|gov|edu|int|mil|co|uk|de|fr|es|it|ru|su)', '', combined_string, flags=re.IGNORECASE)\n",
    "    tokens = re.split(r'/', cleaned_string)\n",
    "    tokens = [token for token in tokens if token]\n",
    "    return tokens\n",
    "\n",
    "\n",
    "def get_url_info(url):\n",
    "    page_title = clean_url(url)\n",
    "    page_description = ''\n",
    "    \n",
    "    try:\n",
    "        response = requests.get(url)\n",
    "        if response.status_code == 200:\n",
    "            soup = BeautifulSoup(response.text, 'html.parser')\n",
    "            page_title = soup.title.string if soup.title else page_title\n",
    "            meta_description = soup.find('meta', attrs={'name': 'description'})\n",
    "            page_description = meta_description['content'] if meta_description else page_description\n",
    "    except Exception as e:\n",
    "        pass \n",
    "\n",
    "    return {\n",
    "        'url': url,\n",
    "        'page_title': page_title,\n",
    "        'page_description': page_description\n",
    "    }\n"
   ]
  },
  {
   "cell_type": "code",
   "execution_count": 76,
   "metadata": {},
   "outputs": [
    {
     "name": "stdout",
     "output_type": "stream",
     "text": [
      "computational-biology\n",
      "bioinformatics\n",
      "neo4j\n"
     ]
    }
   ],
   "source": [
    "url = \"https://scikit-learn.org/stable/modules/clustering.html\"\n",
    "get_candidates(get_url_info(url)['page_title'])"
   ]
  },
  {
   "cell_type": "code",
   "execution_count": 77,
   "metadata": {},
   "outputs": [
    {
     "name": "stdout",
     "output_type": "stream",
     "text": [
      "logic-pro\n",
      "brave-new-world\n",
      "freelancing\n"
     ]
    }
   ],
   "source": [
    "url = \"https://www.youtube.com/watch?v=8Ij7A1VCB7I&ab_channel=MarkTilbury\"\n",
    "get_candidates(get_url_info(url)['page_title'])"
   ]
  },
  {
   "cell_type": "code",
   "execution_count": 78,
   "metadata": {},
   "outputs": [
    {
     "name": "stdout",
     "output_type": "stream",
     "text": [
      "design-systems\n",
      "ai-modern-approach\n",
      "computational-biology\n"
     ]
    }
   ],
   "source": [
    "url = \"https://www.manning.com/books/machine-learning-system-design\"\n",
    "get_candidates(get_url_info(url)['page_title'])"
   ]
  },
  {
   "cell_type": "code",
   "execution_count": 80,
   "metadata": {},
   "outputs": [
    {
     "name": "stdout",
     "output_type": "stream",
     "text": [
      "strength-training\n",
      "cracking-the-coding-interview\n",
      "caddy\n"
     ]
    }
   ],
   "source": [
    "url = \"https://learn-anything.xyz\"\n",
    "get_candidates(get_url_info(url)['page_title'])"
   ]
  }
 ],
 "metadata": {
  "kernelspec": {
   "display_name": "base",
   "language": "python",
   "name": "python3"
  },
  "language_info": {
   "codemirror_mode": {
    "name": "ipython",
    "version": 3
   },
   "file_extension": ".py",
   "mimetype": "text/x-python",
   "name": "python",
   "nbconvert_exporter": "python",
   "pygments_lexer": "ipython3",
   "version": "3.9.12"
  },
  "orig_nbformat": 4
 },
 "nbformat": 4,
 "nbformat_minor": 2
}
