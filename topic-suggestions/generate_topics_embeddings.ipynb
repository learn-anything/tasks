{
  "nbformat": 4,
  "nbformat_minor": 0,
  "metadata": {
    "colab": {
      "provenance": []
    },
    "kernelspec": {
      "name": "python3",
      "display_name": "Python 3"
    },
    "language_info": {
      "name": "python"
    }
  },
  "cells": [
    {
      "cell_type": "code",
      "execution_count": null,
      "metadata": {
        "id": "8HnJv-23cA6C"
      },
      "outputs": [],
      "source": [
        "!pip install sentence-transformers"
      ]
    },
    {
      "cell_type": "code",
      "source": [
        "# setup\n",
        "from sentence_transformers import SentenceTransformer\n",
        "model = SentenceTransformer('BAAI/bge-large-en-v1.5')"
      ],
      "metadata": {
        "id": "p1A3l0HhcIlj"
      },
      "execution_count": null,
      "outputs": []
    },
    {
      "cell_type": "code",
      "source": [
        "!wget https://raw.githubusercontent.com/learn-anything/learn-anything.xyz/main/grafbase/edgedb/cli/connections.json"
      ],
      "metadata": {
        "colab": {
          "base_uri": "https://localhost:8080/"
        },
        "id": "39a58IN-cW6k",
        "outputId": "01a32c6e-2681-4a90-a93c-1f9f3e396cac"
      },
      "execution_count": 1,
      "outputs": [
        {
          "output_type": "stream",
          "name": "stdout",
          "text": [
            "--2023-10-25 01:27:23--  https://raw.githubusercontent.com/learn-anything/learn-anything.xyz/main/grafbase/edgedb/cli/connections.json\n",
            "Resolving raw.githubusercontent.com (raw.githubusercontent.com)... 185.199.111.133, 185.199.110.133, 185.199.108.133, ...\n",
            "Connecting to raw.githubusercontent.com (raw.githubusercontent.com)|185.199.111.133|:443... connected.\n",
            "HTTP request sent, awaiting response... 200 OK\n",
            "Length: 82265 (80K) [text/plain]\n",
            "Saving to: ‘connections.json’\n",
            "\n",
            "connections.json    100%[===================>]  80.34K  --.-KB/s    in 0.03s   \n",
            "\n",
            "2023-10-25 01:27:23 (3.11 MB/s) - ‘connections.json’ saved [82265/82265]\n",
            "\n"
          ]
        }
      ]
    },
    {
      "cell_type": "code",
      "source": [
        "# read topics data\n",
        "import json\n",
        "with open(\"connections.json\", \"rb\") as fl:\n",
        "    topics = json.load(fl)\n",
        "\n",
        "# sample entry\n",
        "topics[0]"
      ],
      "metadata": {
        "id": "7S1La23mcLk1"
      },
      "execution_count": null,
      "outputs": []
    },
    {
      "cell_type": "code",
      "source": [
        "# inspect topics length\n",
        "len(topics)"
      ],
      "metadata": {
        "id": "Gz2ZyZJJcdoD"
      },
      "execution_count": null,
      "outputs": []
    },
    {
      "cell_type": "code",
      "source": [
        "# compute embeddings\n",
        "topics_names = [topic[\"prettyName\"] for topic in topics]\n",
        "topic_embeddings = model.encode(topics, show_progress_bar=True)"
      ],
      "metadata": {
        "id": "BsXN8-U0cibI"
      },
      "execution_count": null,
      "outputs": []
    },
    {
      "cell_type": "code",
      "source": [
        "# generate structure for vectorize entries\n",
        "topics_dict = [\n",
        "    {\n",
        "        \"id\": topic[\"name\"],\n",
        "        \"values\": topic_embedding.tolist(),\n",
        "        \"metadata\": {\n",
        "            \"connections\": topic[\"connections\"],\n",
        "            \"prettyName\": topic[\"prettyName\"]\n",
        "        }\n",
        "    }\n",
        "    for topic, topic_embedding in zip(topics, topic_embeddings)\n",
        "]\n",
        "\n",
        "topics_lines = \"\\n\".join([json.dumps(record) for record in topics_dict])"
      ],
      "metadata": {
        "id": "aMe4Vs66cpei"
      },
      "execution_count": null,
      "outputs": []
    },
    {
      "cell_type": "code",
      "source": [
        "with open(\"embeddings.ndjson\", \"w\") as outfile:\n",
        "    outfile.write('\\n'.join(topics_lines))"
      ],
      "metadata": {
        "id": "WJKBTxYqdBPH"
      },
      "execution_count": null,
      "outputs": []
    }
  ]
}